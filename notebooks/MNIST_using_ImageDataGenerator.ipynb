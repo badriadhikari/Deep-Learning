{
  "nbformat": 4,
  "nbformat_minor": 0,
  "metadata": {
    "colab": {
      "name": "MNIST using ImageDataGenerator.ipynb",
      "provenance": [],
      "collapsed_sections": [],
      "authorship_tag": "ABX9TyPeIoywrao2mB450ibQy6up"
    },
    "kernelspec": {
      "name": "python3",
      "display_name": "Python 3"
    },
    "accelerator": "GPU"
  },
  "cells": [
    {
      "cell_type": "markdown",
      "metadata": {
        "id": "VpdFrTNYb2BK"
      },
      "source": [
        "Load data:"
      ]
    },
    {
      "cell_type": "code",
      "metadata": {
        "id": "Ezn2A2n3UEU_"
      },
      "source": [
        "! wget https://github.com/myleott/mnist_png/raw/master/mnist_png.tar.gz"
      ],
      "execution_count": null,
      "outputs": []
    },
    {
      "cell_type": "code",
      "metadata": {
        "id": "0fXuNrB4UGTn"
      },
      "source": [
        "! tar zxf mnist_png.tar.gz"
      ],
      "execution_count": null,
      "outputs": []
    },
    {
      "cell_type": "code",
      "metadata": {
        "id": "CAtbIcx_UOKU"
      },
      "source": [
        "! ls -l"
      ],
      "execution_count": null,
      "outputs": []
    },
    {
      "cell_type": "code",
      "metadata": {
        "id": "Bzi2pnwBUThK"
      },
      "source": [
        "! ls -l mnist_png/training"
      ],
      "execution_count": null,
      "outputs": []
    },
    {
      "cell_type": "code",
      "metadata": {
        "id": "VSILScIrUXio"
      },
      "source": [
        "! ls -l mnist_png/testing"
      ],
      "execution_count": null,
      "outputs": []
    },
    {
      "cell_type": "markdown",
      "metadata": {
        "id": "B7g-sGNbb7JZ"
      },
      "source": [
        "Code training, validation, and testing generators:"
      ]
    },
    {
      "cell_type": "code",
      "metadata": {
        "id": "c-uX99bHUZqF"
      },
      "source": [
        "from tensorflow.keras.preprocessing.image import ImageDataGenerator\n",
        "# Rescale all images by 1./255\n",
        "my_generator = ImageDataGenerator(rescale=1./255)"
      ],
      "execution_count": null,
      "outputs": []
    },
    {
      "cell_type": "code",
      "metadata": {
        "id": "VBeD6VO9Uhzy"
      },
      "source": [
        "# Generator for training dataset\n",
        "train_generator = my_generator.flow_from_directory( './mnist_png/training/', target_size=(150, 150), batch_size=4, class_mode='categorical')\n",
        "# Generator for validation dataset\n",
        "valid_generator = my_generator.flow_from_directory( './mnist_png/testing/', target_size=(150, 150), batch_size=4, class_mode='categorical')\n",
        "# We may need to create another generator for the test dataset\n",
        "# ??"
      ],
      "execution_count": null,
      "outputs": []
    },
    {
      "cell_type": "markdown",
      "metadata": {
        "id": "Qcizv8HYcBfK"
      },
      "source": [
        "Check that the generators are working:"
      ]
    },
    {
      "cell_type": "code",
      "metadata": {
        "id": "rEIou04MUlWk"
      },
      "source": [
        "import matplotlib.pyplot as plt\n",
        "for my_batch in train_generator:\n",
        "    # my_batch is a tuple with images and labels\n",
        "    images = my_batch[0]\n",
        "    labels = my_batch[1]\n",
        "    for i in range(len(labels)):\n",
        "        # Gives one image and its corresponding label\n",
        "        plt.imshow(images[i])\n",
        "        plt.colorbar()\n",
        "        plt.show()\n",
        "        print(images[i].shape)\n",
        "        print(labels[i])\n",
        "        break\n",
        "    break"
      ],
      "execution_count": null,
      "outputs": []
    },
    {
      "cell_type": "markdown",
      "metadata": {
        "id": "cu7inK0-cFCO"
      },
      "source": [
        "Build a model:"
      ]
    },
    {
      "cell_type": "code",
      "metadata": {
        "id": "nMBkQk8VVIqQ"
      },
      "source": [
        "from tensorflow.keras.models import Sequential\n",
        "from tensorflow.keras.layers import Dense, Conv2D, Flatten\n",
        "\n",
        "model = Sequential()\n",
        "model.add( Conv2D( 16, ( 3, 3 ), activation = 'relu', input_shape = (150, 150, 3) ) )\n",
        "model.add( Conv2D( 4, ( 3, 3 ), activation = 'relu' ) )\n",
        "model.add( Flatten() )\n",
        "model.add( Dense( 10, activation = 'relu' ) )\n",
        "model.add( Dense( 10, activation = 'softmax' ) )\n",
        "model.summary()"
      ],
      "execution_count": null,
      "outputs": []
    },
    {
      "cell_type": "markdown",
      "metadata": {
        "id": "xjEn3yCOcG0Q"
      },
      "source": [
        "Train the model using training generator and evaluate on validation generator:"
      ]
    },
    {
      "cell_type": "code",
      "metadata": {
        "id": "ZAuDNPW6V77b"
      },
      "source": [
        "model.compile( optimizer = 'adam', loss = 'categorical_crossentropy', metrics = [ 'accuracy' ] )\n",
        "# Train using the training set and evaluate using the validation set\n",
        "history = model.fit( train_generator, validation_data = valid_generator, epochs = 5, batch_size = 64 )"
      ],
      "execution_count": null,
      "outputs": []
    },
    {
      "cell_type": "code",
      "metadata": {
        "id": "ORvK7AFKWMzH"
      },
      "source": [
        ""
      ],
      "execution_count": null,
      "outputs": []
    }
  ]
}